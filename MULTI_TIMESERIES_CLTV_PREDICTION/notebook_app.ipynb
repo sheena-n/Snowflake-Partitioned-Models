{
 "metadata": {
  "kernelspec": {
   "display_name": "Streamlit Notebook",
   "name": "streamlit"
  }
 },
 "nbformat_minor": 5,
 "nbformat": 4,
 "cells": [
  {
   "cell_type": "markdown",
   "id": "b8ec8062-5c83-4ff7-a7ae-0e5b9b70a065",
   "metadata": {
    "name": "cell18",
    "collapsed": false
   },
   "source": "# Customer CLTV Value Prediction \n\n### This notebook"
  },
  {
   "cell_type": "markdown",
   "id": "55b2bd63-658e-4521-b113-b70e8f713179",
   "metadata": {
    "name": "cell1",
    "collapsed": false
   },
   "source": ""
  },
  {
   "cell_type": "code",
   "id": "c695373e-ac74-4b62-a1f1-08206cbd5c81",
   "metadata": {
    "language": "python",
    "name": "cell3",
    "collapsed": false
   },
   "source": "# Import python packages\nimport pandas as pd\nimport time\nfrom snowflake.ml.model import custom_model\nfrom snowflake.ml.registry import registry\n\n# We can also use Snowpark for our analyses!\nfrom snowflake.snowpark.context import get_active_session\nsession = get_active_session()\n",
   "execution_count": null,
   "outputs": []
  },
  {
   "cell_type": "markdown",
   "id": "c1944023-e27d-4935-878f-6d9683236ab8",
   "metadata": {
    "name": "cell4",
    "collapsed": false
   },
   "source": "### Set the database, schema and warehouse"
  },
  {
   "cell_type": "code",
   "id": "b3dcd770-a7fe-4eb3-99e6-ab23aa6135c4",
   "metadata": {
    "language": "python",
    "name": "setup",
    "collapsed": false
   },
   "outputs": [],
   "source": "session.sql(\"use database CUSTOMER_SYNTHETIC_DATA\").collect()\nsession.sql(\"use schema CLTV\").collect()\nsession.sql(\"use warehouse CUSTOMER_CLTV\").collect()",
   "execution_count": null
  },
  {
   "cell_type": "markdown",
   "id": "aed9de1c-b093-4760-a82b-1698bef78ba1",
   "metadata": {
    "name": "cell5",
    "collapsed": false
   },
   "source": "### Get the input dataset"
  },
  {
   "cell_type": "code",
   "id": "bd96addd-db39-4f54-a8fa-204a61b11785",
   "metadata": {
    "language": "python",
    "name": "cell2",
    "collapsed": false
   },
   "outputs": [],
   "source": "train_dataset = session.table('customer_cltv') #This is a snowpark dataframe\ntrain_dataset.show()",
   "execution_count": null
  },
  {
   "cell_type": "code",
   "id": "3667e518-3262-416e-b5d0-f75e077f5283",
   "metadata": {
    "language": "python",
    "name": "cell6",
    "collapsed": false
   },
   "outputs": [],
   "source": "# For Local testing\n#Run this only for local testing - selecting subset of data based on customer_id\nrandom_cust_ids = train_dataset.select(train_dataset.col(\"CUST_ID\")).distinct().sample(n=2).collect()\nprint(random_cust_ids)\ntrain_dataset_dummy = train_dataset.filter(train_dataset.col('CUST_ID').in_(random_cust_ids))\ntrain_dataset_dummy.count()",
   "execution_count": null
  },
  {
   "cell_type": "code",
   "id": "f39a5e8b-c39a-45c8-b1f2-b0ed0414f2a0",
   "metadata": {
    "language": "python",
    "name": "cell7",
    "collapsed": false
   },
   "outputs": [],
   "source": "# For Local testing\ntrain_dataset_dummy.count()\ntrain_dataset_dummy_pd = train_dataset_dummy.to_pandas()\ntrain_dataset_dummy_pd.dtypes\nprint(train_dataset_dummy_pd.dtypes)",
   "execution_count": null
  },
  {
   "cell_type": "code",
   "id": "eec5379a-b216-4df7-a43c-19225dd5df84",
   "metadata": {
    "language": "python",
    "name": "cell8",
    "collapsed": false
   },
   "outputs": [],
   "source": "REGISTRY_DATABASE_NAME = session.get_current_database()\nREGISTRY_SCHEMA_NAME = session.get_current_schema()\n\nreg = registry.Registry(session=session, database_name=REGISTRY_DATABASE_NAME, schema_name=REGISTRY_SCHEMA_NAME)",
   "execution_count": null
  },
  {
   "cell_type": "markdown",
   "id": "be7530e8-2352-4d1f-91bb-af34c6897fc3",
   "metadata": {
    "name": "cell9",
    "collapsed": false
   },
   "source": "### Custom model code\n###### The below code is run using snowflake partition model feature\n###### Documentation: https://docs.snowflake.com/LIMITEDACCESS/snowpark-ml-partitioned-training-inference\n###### Custom model def doc: https://docs.snowflake.com/developer-guide/snowpark-ml/model-registry/custom-models#label-snowpark-model-registry-custom-model-writing\n\n###### Things to note\n###### 1. Please keep input and output of predict/custom model function as pandas. Snowflake will automatically handle distributing for you. Function can be called using snowpark dataframe(to pandas conversion auto handled by snowflake) "
  },
  {
   "cell_type": "code",
   "id": "1ae0de4c-3502-4a4c-b051-2215a2e92e07",
   "metadata": {
    "language": "python",
    "name": "cell10",
    "collapsed": false
   },
   "outputs": [],
   "source": "class ForecastingModel(custom_model.CustomModel):\n\n    # Use the same decorator as for methods with FUNCTION inference.\n    @custom_model.partitioned_inference_api\n    def predict(self, df:pd.DataFrame) -> pd.DataFrame:    #Keep input and output here as pandas   \n        ################## Replace below with your algorithm code ######################################## \n        import pandas as pd\n        from statsmodels.tsa.holtwinters import ExponentialSmoothing\n        from datetime import datetime, timedelta\n        import warnings\n        warnings.filterwarnings(\"ignore\")  # Suppress unnecessary warnings\n        \n        # Convert 'TS' to datetime\n        df['TS'] = pd.to_datetime(df['TS'])\n\n        # Ensure data is sorted by TS\n        df = df.sort_values(by=['CUST_ID', 'TS']).set_index('TS')\n        \n        # Function to forecast CLTV for a single customer\n        def forecast_cltv(customer_data):\n            #customer_data = customer_data.asfreq('MS')\n            model = ExponentialSmoothing(customer_data['CLTV'], trend=\"add\", seasonal=None)\n            fit = model.fit()\n            forecast = fit.forecast(12)  # Forecast for 12 months\n            print('done with forecast')\n            forecast_dates = pd.date_range(start=customer_data.index.max(), periods=12, freq='MS')\n            # Convert Series to DataFrame\n            forecast_df = pd.DataFrame({\n                'TS_FORECAST': forecast_dates,\n                'CLTV_FORECAST': forecast.values\n            })\n            \n            return forecast_df\n\n        forecast_df = forecast_cltv(df)\n        return forecast_df\n",
   "execution_count": null
  },
  {
   "cell_type": "code",
   "id": "8fd246fb-83b7-416e-a7c2-b184a85e8528",
   "metadata": {
    "language": "python",
    "name": "cell11",
    "collapsed": false
   },
   "outputs": [],
   "source": "cltv_forecasting_model = ForecastingModel()\nlocal_predictions = cltv_forecasting_model.predict(train_dataset_dummy_pd)\nprint(local_predictions)",
   "execution_count": null
  },
  {
   "cell_type": "code",
   "id": "e03f5f07-0424-4bec-bdb0-dd692ced5233",
   "metadata": {
    "language": "python",
    "name": "cell12",
    "collapsed": false
   },
   "outputs": [],
   "source": "# https://docs.snowflake.com/en/developer-guide/snowpark-ml/model-registry/model-signature\n# https://docs.snowflake.com/en/developer-guide/snowpark-ml/model-registry/overview#registering-models-and-versions\noptions = {\n    \"function_type\": \"TABLE_FUNCTION\",\n}\n\nmv = reg.log_model(\n    cltv_forecasting_model,\n    model_name=\"cltv_forecast\",\n    conda_dependencies=['pandas', 'statsmodels==0.13.5', 'snowflake-snowpark-python'],\n    options=options,\n    sample_input_data=train_dataset_dummy,\n)",
   "execution_count": null
  },
  {
   "cell_type": "code",
   "id": "7c9c39e3-697d-47fa-9036-51d763bb2347",
   "metadata": {
    "language": "python",
    "name": "cell13",
    "collapsed": false
   },
   "outputs": [],
   "source": "#If you don't have permission to alter size of WH either switch to another bigger warehouse or continue with current one.\nsession.sql(\n    f\"ALTER WAREHOUSE {session.get_current_warehouse()[1:-1]} SET WAREHOUSE_SIZE='6X-Large';\"\n).collect()",
   "execution_count": null
  },
  {
   "cell_type": "code",
   "id": "530e8ee5-e541-4217-b4d0-cb391a7c5fd3",
   "metadata": {
    "language": "python",
    "name": "cell14",
    "collapsed": false
   },
   "outputs": [],
   "source": "from snowflake.snowpark.functions import to_timestamp_ntz\ntrain_dataset = train_dataset.with_column(\"TS\", to_timestamp_ntz(train_dataset[\"TS\"]))\n",
   "execution_count": null
  },
  {
   "cell_type": "markdown",
   "id": "addfa832-4305-4114-9eb9-cdb268420d22",
   "metadata": {
    "name": "cell15",
    "collapsed": false
   },
   "source": "# Train and Predict the CLTV values and save results in a table in Snowflake.\n#### Partition models in Snowflake "
  },
  {
   "cell_type": "code",
   "id": "5d7f8a19-e677-4389-bbde-f7cca9f12ddd",
   "metadata": {
    "language": "python",
    "name": "cell16",
    "collapsed": false
   },
   "outputs": [],
   "source": "start_time = time.time()\n\n# Train and Predict CLTV values for 100 million customers\nresults = mv.run(\n  train_dataset, #Can be a pandas df or snowpark df\n  function_name=\"PREDICT\",\n  partition_column=\"CUST_ID\"\n)\nresults.write.save_as_table('Prediction_results', mode='overwrite')\nend_time = time.time()\n\n# Calculate elapsed time in minutes\nelapsed_time_minutes = (end_time - start_time) / 60\nprint(f\"Execution time: {elapsed_time_minutes:.2f} minutes\")\n",
   "execution_count": null
  },
  {
   "cell_type": "code",
   "id": "7bcc7216-23ab-42fd-90e7-1fd74820da39",
   "metadata": {
    "language": "python",
    "name": "Downsize_Warehouse"
   },
   "outputs": [],
   "source": "#Resize to small warehouse\nsession.sql(\n    f\"ALTER WAREHOUSE {session.get_current_warehouse()[1:-1]} SET WAREHOUSE_SIZE='SMALL';\"\n).collect()",
   "execution_count": null
  },
  {
   "cell_type": "markdown",
   "id": "a15f31c2-293d-4b7d-8ba0-5427031863a0",
   "metadata": {
    "name": "Results",
    "collapsed": false
   },
   "source": "### Save the prediction results to a table."
  },
  {
   "cell_type": "code",
   "id": "19efadc0-3e3a-4a82-85c1-a792c1c49cf1",
   "metadata": {
    "language": "python",
    "name": "cell17",
    "collapsed": false
   },
   "outputs": [],
   "source": "results.show(5)",
   "execution_count": null
  }
 ]
}