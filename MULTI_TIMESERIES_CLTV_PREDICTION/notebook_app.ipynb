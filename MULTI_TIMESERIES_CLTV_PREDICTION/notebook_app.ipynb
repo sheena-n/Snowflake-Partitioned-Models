{
 "metadata": {
  "kernelspec": {
   "display_name": "Streamlit Notebook",
   "name": "streamlit"
  }
 },
 "nbformat_minor": 5,
 "nbformat": 4,
 "cells": [
  {
   "cell_type": "markdown",
   "id": "b8ec8062-5c83-4ff7-a7ae-0e5b9b70a065",
   "metadata": {
    "name": "Use_Case",
    "collapsed": false,
    "resultHeight": 210
   },
   "source": "# Customer CLTV Value Prediction \n\n### This notebook describes how to build 100 million multiple timeseries in parallel using Snowflake's Partioned Custom models.\n\n100 million customers and you would like to predict how much each customer is going to spend monthly in next 12 months based on last 24 months of monthly spending data."
  },
  {
   "cell_type": "markdown",
   "id": "55b2bd63-658e-4521-b113-b70e8f713179",
   "metadata": {
    "name": "Step_1",
    "collapsed": false,
    "resultHeight": 46
   },
   "source": "### Import all the required packages"
  },
  {
   "cell_type": "code",
   "id": "c695373e-ac74-4b62-a1f1-08206cbd5c81",
   "metadata": {
    "language": "python",
    "name": "Import_Packages",
    "collapsed": false,
    "resultHeight": 0
   },
   "source": "# Import python packages\nimport pandas as pd\nimport time\nfrom snowflake.ml.model import custom_model\nfrom snowflake.ml.registry import registry\nfrom snowflake.snowpark.context import get_active_session\nfrom snowflake.snowpark.functions import to_timestamp_ntz\n\n# Get the active session\nsession = get_active_session()\n",
   "execution_count": null,
   "outputs": []
  },
  {
   "cell_type": "markdown",
   "id": "c1944023-e27d-4935-878f-6d9683236ab8",
   "metadata": {
    "name": "Step_2",
    "collapsed": false,
    "resultHeight": 46
   },
   "source": "### Set the database, schema and warehouse"
  },
  {
   "cell_type": "code",
   "id": "b3dcd770-a7fe-4eb3-99e6-ab23aa6135c4",
   "metadata": {
    "language": "python",
    "name": "Setup",
    "collapsed": false,
    "resultHeight": 112
   },
   "outputs": [],
   "source": "session.sql(\"use database CUSTOMER_SYNTHETIC_DATA\").collect()\nsession.sql(\"use schema CLTV\").collect()\nsession.sql(\"use warehouse CUSTOMER_CLTV\").collect()",
   "execution_count": null
  },
  {
   "cell_type": "markdown",
   "id": "aed9de1c-b093-4760-a82b-1698bef78ba1",
   "metadata": {
    "name": "Step_3",
    "collapsed": false,
    "resultHeight": 46
   },
   "source": "### Get the input dataset"
  },
  {
   "cell_type": "code",
   "id": "bd96addd-db39-4f54-a8fa-204a61b11785",
   "metadata": {
    "language": "python",
    "name": "Input_Data",
    "collapsed": false,
    "resultHeight": 329
   },
   "outputs": [],
   "source": "train_dataset = session.table('customer_cltv') #This is a snowpark dataframe\n\n# Format the timestamp column to right format\ntrain_dataset = train_dataset.with_column(\"TS\", to_timestamp_ntz(train_dataset[\"TS\"]))\ntrain_dataset.show()",
   "execution_count": null
  },
  {
   "cell_type": "markdown",
   "id": "384d24bb-b3bb-41dc-b164-e139aef7c8a5",
   "metadata": {
    "name": "Step_4",
    "collapsed": false,
    "resultHeight": 47
   },
   "source": "#### For Local Testing select a subset of the data based on five random customer_id"
  },
  {
   "cell_type": "code",
   "id": "3667e518-3262-416e-b5d0-f75e077f5283",
   "metadata": {
    "language": "python",
    "name": "Random_Select",
    "collapsed": false,
    "resultHeight": 0
   },
   "outputs": [],
   "source": "# Select 5 random customer ids\nrandom_cust_ids = train_dataset.select(train_dataset.col(\"CUST_ID\")).distinct().sample(n=5).collect()\ntrain_dataset_dummy = train_dataset.filter(train_dataset.col('CUST_ID').in_(random_cust_ids))\n\n# Create a subset of data Local testing\ntrain_dataset_dummy_pd = train_dataset_dummy.to_pandas()",
   "execution_count": null
  },
  {
   "cell_type": "markdown",
   "id": "da652f92-bb57-4d7b-af7f-653b91e6e684",
   "metadata": {
    "name": "Step_5",
    "resultHeight": 46
   },
   "source": "### Initialise the model registry in Snowflake"
  },
  {
   "cell_type": "code",
   "id": "eec5379a-b216-4df7-a43c-19225dd5df84",
   "metadata": {
    "language": "python",
    "name": "Model_registry",
    "collapsed": false,
    "resultHeight": 0
   },
   "outputs": [],
   "source": "REGISTRY_DATABASE_NAME = session.get_current_database()\nREGISTRY_SCHEMA_NAME = session.get_current_schema()\n\nreg = registry.Registry(session=session, database_name=REGISTRY_DATABASE_NAME, \n                        schema_name=REGISTRY_SCHEMA_NAME)",
   "execution_count": null
  },
  {
   "cell_type": "markdown",
   "id": "be7530e8-2352-4d1f-91bb-af34c6897fc3",
   "metadata": {
    "name": "Step_6",
    "collapsed": false,
    "resultHeight": 226
   },
   "source": "### Partitioned Custom Models\n\n#### The below code is run using snowflake partition model feature\n#### Documentation: https://docs.snowflake.com/en/developer-guide/snowflake-ml/model-registry/partitioned-custom-models\n\n#### Note: Please keep input and output of predict/custom model function as pandas. Snowflake will automatically handle distributing for you. Function can be called using snowpark dataframe."
  },
  {
   "cell_type": "code",
   "id": "1ae0de4c-3502-4a4c-b051-2215a2e92e07",
   "metadata": {
    "language": "python",
    "name": "Model_Training_And_Forecasting",
    "collapsed": false,
    "resultHeight": 0
   },
   "outputs": [],
   "source": "class ForecastingModel(custom_model.CustomModel):\n\n    # Use the same decorator as for methods with FUNCTION inference.\n    @custom_model.partitioned_inference_api\n    def predict(self, df:pd.DataFrame) -> pd.DataFrame:    #Keep input and output here as pandas   \n        \n        ################## Replace below with your algorithm code ######################################## \n        import pandas as pd\n        from statsmodels.tsa.holtwinters import ExponentialSmoothing\n        import warnings\n        warnings.filterwarnings(\"ignore\")  # Suppress unnecessary warnings\n        \n        # Convert 'TS' to datetime\n        df['TS'] = pd.to_datetime(df['TS'])\n\n        # Ensure data is sorted by TS\n        df = df.sort_values(by=['CUST_ID', 'TS']).set_index('TS')\n        \n        # Function to forecast CLTV for a single customer\n        def forecast_cltv(customer_data):\n            \n            model = ExponentialSmoothing(customer_data['CLTV'], trend=\"add\", seasonal=None)\n            fit = model.fit()\n            forecast = fit.forecast(12)  # Forecast for 12 months\n            forecast_dates = pd.date_range(start=customer_data.index.max(), periods=12, freq='MS')\n            # Convert Series to DataFrame\n            forecast_df = pd.DataFrame({\n                'TS_FORECAST': forecast_dates,\n                'CLTV_FORECAST': forecast.values\n            })\n            \n            return forecast_df\n\n        forecast_df = forecast_cltv(df)\n        return forecast_df\n",
   "execution_count": null
  },
  {
   "cell_type": "code",
   "id": "8fd246fb-83b7-416e-a7c2-b184a85e8528",
   "metadata": {
    "language": "python",
    "name": "Local_Testing",
    "collapsed": false,
    "resultHeight": 307
   },
   "outputs": [],
   "source": "#We first test on a subset of pandas data locally before running on entire dataset.\ncltv_forecasting_model = ForecastingModel()\nlocal_predictions = cltv_forecasting_model.predict(train_dataset_dummy_pd)\nprint(local_predictions)",
   "execution_count": null
  },
  {
   "cell_type": "markdown",
   "id": "b18a2d18-2711-4079-a2bc-766899a8e329",
   "metadata": {
    "name": "Step_7",
    "collapsed": false,
    "resultHeight": 114
   },
   "source": "#### Logging the models into the model registry \nDocumentation: https://docs.snowflake.com/developer-guide/snowflake-ml/model-registry/overview#registering-models-and-versions"
  },
  {
   "cell_type": "code",
   "id": "e03f5f07-0424-4bec-bdb0-dd692ced5233",
   "metadata": {
    "language": "python",
    "name": "Register_Model",
    "collapsed": false,
    "resultHeight": 0
   },
   "outputs": [],
   "source": "options = {\n    \"function_type\": \"TABLE_FUNCTION\",\n}\n\nmv = reg.log_model(\n    cltv_forecasting_model,\n    model_name=\"cltv_forecast\",\n    conda_dependencies=['pandas', \n                        'statsmodels==0.13.5', \n                        'snowflake-snowpark-python'],\n    options=options,\n    sample_input_data=train_dataset_dummy,\n)",
   "execution_count": null
  },
  {
   "cell_type": "markdown",
   "id": "c9344ea2-9db8-4d69-8f00-f9ce4726a4d8",
   "metadata": {
    "name": "Step_8",
    "collapsed": false,
    "resultHeight": 47
   },
   "source": "#### Upsize the warehouse before running on 100 million customer data for performance"
  },
  {
   "cell_type": "code",
   "id": "7c9c39e3-697d-47fa-9036-51d763bb2347",
   "metadata": {
    "language": "python",
    "name": "Upsize_Warehouse",
    "collapsed": false,
    "resultHeight": 112
   },
   "outputs": [],
   "source": "#If you don't have permission to alter size of the WH either switch to another bigger warehouse or continue with current one.\nsession.sql(\n    f\"ALTER WAREHOUSE {session.get_current_warehouse()[1:-1]} \\\n    SET WAREHOUSE_SIZE='6X-Large';\"\n).collect()",
   "execution_count": null
  },
  {
   "cell_type": "markdown",
   "id": "addfa832-4305-4114-9eb9-cdb268420d22",
   "metadata": {
    "name": "Step_9",
    "collapsed": false,
    "resultHeight": 112
   },
   "source": "# Train and Predict the CLTV values and save results in a table in Snowflake."
  },
  {
   "cell_type": "code",
   "id": "5d7f8a19-e677-4389-bbde-f7cca9f12ddd",
   "metadata": {
    "language": "python",
    "name": "Training_And_Prediction",
    "collapsed": false,
    "resultHeight": 38
   },
   "outputs": [],
   "source": "start_time = time.time()\n\n# Train and Predict CLTV values for 100 million customers\nresults = mv.run(\n  train_dataset, #Can be a pandas df or snowpark df\n  function_name=\"PREDICT\",\n  partition_column=\"CUST_ID\"\n)\nresults.write.save_as_table('Prediction_results', mode='overwrite')\nend_time = time.time()\n\n# Calculate elapsed time in minutes\nelapsed_time_minutes = (end_time - start_time) / 60\nprint(f\"Execution time: {elapsed_time_minutes:.2f} minutes\")\n",
   "execution_count": null
  },
  {
   "cell_type": "code",
   "id": "7bcc7216-23ab-42fd-90e7-1fd74820da39",
   "metadata": {
    "language": "python",
    "name": "Downsize_Warehouse",
    "collapsed": false,
    "resultHeight": 112
   },
   "outputs": [],
   "source": "#Resize to small warehouse\nsession.sql(\n    f\"ALTER WAREHOUSE {session.get_current_warehouse()[1:-1]} SET WAREHOUSE_SIZE='SMALL';\"\n).collect()",
   "execution_count": null
  },
  {
   "cell_type": "markdown",
   "id": "a15f31c2-293d-4b7d-8ba0-5427031863a0",
   "metadata": {
    "name": "Results",
    "collapsed": false,
    "resultHeight": 46
   },
   "source": "### Print sample prediction results"
  },
  {
   "cell_type": "code",
   "id": "e1bba014-ec64-41c7-a7f8-26221549ab26",
   "metadata": {
    "language": "python",
    "name": "Print_Results",
    "collapsed": false,
    "resultHeight": 419
   },
   "outputs": [],
   "source": "df = session.table('Prediction_results')\nprint(\"Number of rows in prediction = \", df.count())\n\nprint(\"Sample prediction data\")\ndf.select(\"TS_FORECAST\", \"CUST_ID\", \"CLTV_FORECAST\").show(12)",
   "execution_count": null
  }
 ]
}